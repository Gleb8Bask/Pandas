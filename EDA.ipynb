{
 "cells": [
  {
   "cell_type": "markdown",
   "id": "enclosed-serbia",
   "metadata": {},
   "source": [
    "Импорт библиотек:"
   ]
  },
  {
   "cell_type": "code",
   "execution_count": 2,
   "id": "infectious-scenario",
   "metadata": {},
   "outputs": [],
   "source": [
    "import numpy as np\n",
    "import pandas as pd\n",
    "import matplotlib.pyplot as plt\n",
    "import seaborn as sns\n",
    "%config InlineBackend.figure_format = 'retina'\n",
    "df = pd.read_csv('ДатаСет_для_обработки_в_python.csv',encoding='cp1251')\n",
    "pd.set_option('display.max_columns', None)\n",
    "import warnings\n",
    "warnings.filterwarnings(\"ignore\")"
   ]
  },
  {
   "cell_type": "markdown",
   "id": "adjusted-detail",
   "metadata": {},
   "source": [
    "<b>Общий обзор данных по вкладам</b>"
   ]
  },
  {
   "cell_type": "code",
   "execution_count": null,
   "id": "silent-bearing",
   "metadata": {},
   "outputs": [],
   "source": [
    "df.shape"
   ]
  },
  {
   "cell_type": "markdown",
   "id": "documented-crown",
   "metadata": {},
   "source": [
    "..."
   ]
  },
  {
   "cell_type": "code",
   "execution_count": null,
   "id": "surrounded-container",
   "metadata": {},
   "outputs": [],
   "source": [
    "df.columns"
   ]
  },
  {
   "cell_type": "markdown",
   "id": "stretch-yellow",
   "metadata": {},
   "source": [
    "Типы данных:"
   ]
  },
  {
   "cell_type": "code",
   "execution_count": null,
   "id": "breeding-undergraduate",
   "metadata": {},
   "outputs": [],
   "source": [
    "df.info()"
   ]
  },
  {
   "cell_type": "code",
   "execution_count": 6,
   "id": "marine-border",
   "metadata": {
    "scrolled": true
   },
   "outputs": [],
   "source": [
    "df[\"Остаток\"] = df[\"Остаток\"].astype(\"float64\")"
   ]
  },
  {
   "cell_type": "code",
   "execution_count": 7,
   "id": "prepared-defense",
   "metadata": {},
   "outputs": [],
   "source": [
    "df = df.fillna(np.NaN)"
   ]
  },
  {
   "cell_type": "markdown",
   "id": "copyrighted-indonesia",
   "metadata": {},
   "source": [
    "..."
   ]
  },
  {
   "cell_type": "code",
   "execution_count": 8,
   "id": "common-damages",
   "metadata": {},
   "outputs": [],
   "source": [
    "df_open = df[(df['Состояние'] == 'РАБОТАЕТ') & (df['Статус'] != 'депозиты для закрытия') \n",
    "             & (df['Статус'] != 'закрыт досрочно') & (df['Статус'] != 'закрыт по сроку')]"
   ]
  },
  {
   "cell_type": "code",
   "execution_count": null,
   "id": "rough-cooler",
   "metadata": {},
   "outputs": [],
   "source": [
    "df_open.shape"
   ]
  },
  {
   "cell_type": "markdown",
   "id": "failing-principle",
   "metadata": {},
   "source": [
    "..."
   ]
  },
  {
   "cell_type": "markdown",
   "id": "fleet-trustee",
   "metadata": {},
   "source": [
    "<b>Обзор всех открытых вкладов</b>"
   ]
  },
  {
   "cell_type": "markdown",
   "id": "weighted-alexandria",
   "metadata": {},
   "source": [
    "Клиенты, у которых больше одного вклада:"
   ]
  },
  {
   "cell_type": "code",
   "execution_count": null,
   "id": "pharmaceutical-palestine",
   "metadata": {},
   "outputs": [],
   "source": [
    "df_open['Клиент'].value_counts().loc[lambda x: x>1]"
   ]
  },
  {
   "cell_type": "markdown",
   "id": "prostate-registrar",
   "metadata": {},
   "source": [
    "..."
   ]
  },
  {
   "cell_type": "markdown",
   "id": "sensitive-cosmetic",
   "metadata": {},
   "source": [
    "Вклады по количеству:"
   ]
  },
  {
   "cell_type": "code",
   "execution_count": null,
   "id": "leading-reform",
   "metadata": {},
   "outputs": [],
   "source": [
    "df_open['Вклад'].value_counts()"
   ]
  },
  {
   "cell_type": "markdown",
   "id": "cross-class",
   "metadata": {},
   "source": [
    "..."
   ]
  },
  {
   "cell_type": "raw",
   "id": "lightweight-injury",
   "metadata": {},
   "source": [
    "Вклады в процентах от общего:"
   ]
  },
  {
   "cell_type": "code",
   "execution_count": null,
   "id": "moved-dealing",
   "metadata": {},
   "outputs": [],
   "source": [
    "df['Вклад'].value_counts(normalize=True)"
   ]
  },
  {
   "cell_type": "markdown",
   "id": "compound-drinking",
   "metadata": {},
   "source": [
    "Базовые описательные показатели для остатка:"
   ]
  },
  {
   "cell_type": "code",
   "execution_count": null,
   "id": "physical-mineral",
   "metadata": {},
   "outputs": [],
   "source": [
    "df['Остаток'].describe().apply(lambda x: '%.0f' % x)"
   ]
  },
  {
   "cell_type": "markdown",
   "id": "greenhouse-innocent",
   "metadata": {},
   "source": [
    "..."
   ]
  },
  {
   "cell_type": "markdown",
   "id": "incoming-attraction",
   "metadata": {},
   "source": [
    "Количество вкладов зарплатников:"
   ]
  },
  {
   "cell_type": "code",
   "execution_count": null,
   "id": "compressed-hopkins",
   "metadata": {},
   "outputs": [],
   "source": [
    "df_open['Зарплатники_Bool'].value_counts()"
   ]
  },
  {
   "cell_type": "code",
   "execution_count": null,
   "id": "demonstrated-doubt",
   "metadata": {},
   "outputs": [],
   "source": [
    "df_open['Зарплатники_Bool'].value_counts(normalize=True)"
   ]
  },
  {
   "cell_type": "markdown",
   "id": "mighty-newport",
   "metadata": {},
   "source": [
    "..."
   ]
  },
  {
   "cell_type": "markdown",
   "id": "certain-baghdad",
   "metadata": {},
   "source": [
    "Зарплатные клиенты следующих компаний:"
   ]
  },
  {
   "cell_type": "code",
   "execution_count": null,
   "id": "expensive-purple",
   "metadata": {},
   "outputs": [],
   "source": [
    "df_open['Зарплатники'].value_counts().head(10)"
   ]
  },
  {
   "cell_type": "markdown",
   "id": "light-beijing",
   "metadata": {},
   "source": [
    "..."
   ]
  },
  {
   "cell_type": "markdown",
   "id": "exact-frost",
   "metadata": {},
   "source": [
    "При этом с датой увольнения:"
   ]
  },
  {
   "cell_type": "code",
   "execution_count": null,
   "id": "ongoing-orientation",
   "metadata": {},
   "outputs": [],
   "source": [
    "df_open['Дата увольнения'].value_counts()"
   ]
  },
  {
   "cell_type": "markdown",
   "id": "working-superior",
   "metadata": {},
   "source": [
    "..."
   ]
  },
  {
   "cell_type": "markdown",
   "id": "optical-queue",
   "metadata": {},
   "source": [
    "Количество клиентов с остатком средств и другие показатели:"
   ]
  },
  {
   "cell_type": "code",
   "execution_count": null,
   "id": "comprehensive-williams",
   "metadata": {},
   "outputs": [],
   "source": [
    "df1 = df_open[df_open['Остаток на счёте'] != 0]\n",
    "df1['Остаток на счёте'].describe().apply(lambda x: '%.0f' % x)"
   ]
  },
  {
   "cell_type": "markdown",
   "id": "alternative-george",
   "metadata": {},
   "source": [
    "..."
   ]
  },
  {
   "cell_type": "markdown",
   "id": "fallen-pakistan",
   "metadata": {},
   "source": [
    "Количество клиентов с ДБО работает:"
   ]
  },
  {
   "cell_type": "code",
   "execution_count": null,
   "id": "combined-intensity",
   "metadata": {},
   "outputs": [],
   "source": [
    "df_open['ДБО_Работает'].value_counts(normalize=True)"
   ]
  },
  {
   "cell_type": "markdown",
   "id": "infinite-antigua",
   "metadata": {},
   "source": [
    "..."
   ]
  },
  {
   "cell_type": "markdown",
   "id": "wrapped-grove",
   "metadata": {},
   "source": [
    "Были в приложении за месяц:"
   ]
  },
  {
   "cell_type": "code",
   "execution_count": null,
   "id": "major-italic",
   "metadata": {},
   "outputs": [],
   "source": [
    "df_open['Был_в_приложении_за_последний_месяц'].value_counts(normalize=True)"
   ]
  },
  {
   "cell_type": "markdown",
   "id": "shaped-penalty",
   "metadata": {},
   "source": [
    "..."
   ]
  },
  {
   "cell_type": "markdown",
   "id": "normal-deposit",
   "metadata": {},
   "source": [
    "Какие вклады открыты у тех, кто был в приложении за месяц:"
   ]
  },
  {
   "cell_type": "code",
   "execution_count": null,
   "id": "portable-spider",
   "metadata": {},
   "outputs": [],
   "source": [
    "df[df[\"Был_в_приложении_за_последний_месяц\"] == 1][\"Вклад\"].value_counts()"
   ]
  },
  {
   "cell_type": "markdown",
   "id": "approximate-basketball",
   "metadata": {},
   "source": [
    "..."
   ]
  },
  {
   "cell_type": "markdown",
   "id": "million-replication",
   "metadata": {},
   "source": [
    "Если есть остаток на счёте, заходят ли чаще в приложение клиенты с вкладами:"
   ]
  },
  {
   "cell_type": "code",
   "execution_count": null,
   "id": "original-howard",
   "metadata": {},
   "outputs": [],
   "source": [
    "df_open[\"money_left\"] = (df_open[\"Остаток на счёте\"] > 0).astype(\"int\")\n",
    "pd.crosstab(df_open[\"money_left\"], df_open[\"Был_в_приложении_за_последний_месяц\"], margins=True)"
   ]
  },
  {
   "cell_type": "markdown",
   "id": "graduate-channels",
   "metadata": {},
   "source": [
    "..."
   ]
  },
  {
   "cell_type": "markdown",
   "id": "documented-blanket",
   "metadata": {},
   "source": [
    "Месяц начала:"
   ]
  },
  {
   "cell_type": "code",
   "execution_count": 69,
   "id": "initial-planner",
   "metadata": {},
   "outputs": [],
   "source": [
    "df['month_year'] = pd.to_datetime(df['Дата начала']).dt.to_period('M')"
   ]
  },
  {
   "cell_type": "code",
   "execution_count": null,
   "id": "colored-flight",
   "metadata": {},
   "outputs": [],
   "source": [
    "plt.figure(figsize=(17,5))\n",
    "plt.xticks(rotation=45)\n",
    "sns.countplot(x=\"month_year\", hue=\"Переоформление\", data=df)"
   ]
  },
  {
   "cell_type": "markdown",
   "id": "suspected-dialogue",
   "metadata": {},
   "source": [
    "Распределение по переоформлениям:"
   ]
  },
  {
   "cell_type": "code",
   "execution_count": null,
   "id": "enormous-college",
   "metadata": {},
   "outputs": [],
   "source": [
    "df[\"Переоформление\"].value_counts()"
   ]
  },
  {
   "cell_type": "markdown",
   "id": "framed-discussion",
   "metadata": {},
   "source": [
    "..."
   ]
  },
  {
   "cell_type": "markdown",
   "id": "remarkable-chrome",
   "metadata": {},
   "source": [
    "<b>Анализ оттока</b>"
   ]
  },
  {
   "cell_type": "markdown",
   "id": "common-rendering",
   "metadata": {},
   "source": [
    "Продлённые в марте договора:"
   ]
  },
  {
   "cell_type": "code",
   "execution_count": 26,
   "id": "automotive-mailing",
   "metadata": {},
   "outputs": [],
   "source": [
    "start_date='3/1/2021'"
   ]
  },
  {
   "cell_type": "code",
   "execution_count": 27,
   "id": "exposed-conservation",
   "metadata": {},
   "outputs": [],
   "source": [
    "end_date='3/31/2021'"
   ]
  },
  {
   "cell_type": "code",
   "execution_count": 28,
   "id": "municipal-swiss",
   "metadata": {},
   "outputs": [],
   "source": [
    "mask_extended = (df['Дата начала']>start_date) & (df['Дата начала']<=end_date) & (df['Переоформление']==1)"
   ]
  },
  {
   "cell_type": "code",
   "execution_count": 29,
   "id": "connected-handle",
   "metadata": {},
   "outputs": [],
   "source": [
    "df_extended = df.loc[mask_extended]"
   ]
  },
  {
   "cell_type": "code",
   "execution_count": null,
   "id": "positive-rescue",
   "metadata": {},
   "outputs": [],
   "source": [
    "df_extended.shape"
   ]
  },
  {
   "cell_type": "markdown",
   "id": "filled-tract",
   "metadata": {},
   "source": [
    "Закрытые в марте договора:"
   ]
  },
  {
   "cell_type": "code",
   "execution_count": 31,
   "id": "incoming-chorus",
   "metadata": {},
   "outputs": [],
   "source": [
    "start_date='3/1/2021'"
   ]
  },
  {
   "cell_type": "code",
   "execution_count": 32,
   "id": "numeric-motivation",
   "metadata": {},
   "outputs": [],
   "source": [
    "end_date='3/31/2021'"
   ]
  },
  {
   "cell_type": "code",
   "execution_count": 33,
   "id": "planned-alexandria",
   "metadata": {},
   "outputs": [],
   "source": [
    "mask_closed = (df['Дата закрытия']>start_date) & (df['Дата закрытия']<=end_date)"
   ]
  },
  {
   "cell_type": "code",
   "execution_count": 34,
   "id": "senior-hypothetical",
   "metadata": {},
   "outputs": [],
   "source": [
    "df_closed = df.loc[mask_closed]"
   ]
  },
  {
   "cell_type": "code",
   "execution_count": null,
   "id": "persistent-honolulu",
   "metadata": {},
   "outputs": [],
   "source": [
    "df_closed.shape"
   ]
  },
  {
   "cell_type": "code",
   "execution_count": null,
   "id": "exposed-configuration",
   "metadata": {},
   "outputs": [],
   "source": [
    "df_concat = pd.concat([df_extended, df_closed])\n",
    "df_concat.shape"
   ]
  },
  {
   "cell_type": "markdown",
   "id": "chicken-boxing",
   "metadata": {},
   "source": [
    "..."
   ]
  },
  {
   "cell_type": "markdown",
   "id": "personalized-blackjack",
   "metadata": {},
   "source": [
    "Остаток на счете карты у переоформленных и нет:"
   ]
  },
  {
   "cell_type": "code",
   "execution_count": null,
   "id": "oriental-cartridge",
   "metadata": {},
   "outputs": [],
   "source": [
    "df_concat.groupby(['Переоформление'])['Остаток на счёте'].describe(percentiles=[])"
   ]
  },
  {
   "cell_type": "markdown",
   "id": "contrary-wales",
   "metadata": {},
   "source": [
    "..."
   ]
  },
  {
   "cell_type": "markdown",
   "id": "young-being",
   "metadata": {},
   "source": [
    "В каких городах обслуживаются клиенты:"
   ]
  },
  {
   "cell_type": "code",
   "execution_count": null,
   "id": "rough-importance",
   "metadata": {},
   "outputs": [],
   "source": [
    "df_concat.groupby(['Переоформление'])['Фил.'].value_counts()"
   ]
  },
  {
   "cell_type": "markdown",
   "id": "southeast-bunny",
   "metadata": {},
   "source": [
    "КМ или ПМ:"
   ]
  },
  {
   "cell_type": "code",
   "execution_count": null,
   "id": "tribal-pharmacy",
   "metadata": {},
   "outputs": [],
   "source": [
    "df_concat.groupby(['Переоформление'])['КМ_ПМ'].value_counts()"
   ]
  },
  {
   "cell_type": "markdown",
   "id": "successful-league",
   "metadata": {},
   "source": [
    "..."
   ]
  },
  {
   "cell_type": "markdown",
   "id": "frequent-combining",
   "metadata": {},
   "source": [
    "Зарплатники или нет:"
   ]
  },
  {
   "cell_type": "code",
   "execution_count": null,
   "id": "consolidated-conspiracy",
   "metadata": {},
   "outputs": [],
   "source": [
    "df_concat.groupby(['Переоформление'])['Зарплатники_Bool'].value_counts(normalize=True)"
   ]
  },
  {
   "cell_type": "markdown",
   "id": "contrary-patient",
   "metadata": {},
   "source": [
    "..."
   ]
  },
  {
   "cell_type": "markdown",
   "id": "stretch-mozambique",
   "metadata": {},
   "source": [
    "Сегмент заемщика:"
   ]
  },
  {
   "cell_type": "code",
   "execution_count": null,
   "id": "opened-passion",
   "metadata": {},
   "outputs": [],
   "source": [
    "df_concat.groupby(['Переоформление'])['Сегмент заемщика'].value_counts(normalize=True)"
   ]
  },
  {
   "cell_type": "markdown",
   "id": "determined-peter",
   "metadata": {},
   "source": [
    "..."
   ]
  },
  {
   "cell_type": "markdown",
   "id": "sublime-navigator",
   "metadata": {},
   "source": [
    "Переоформления вкладов по названию вкладов:"
   ]
  },
  {
   "cell_type": "code",
   "execution_count": null,
   "id": "breathing-northeast",
   "metadata": {},
   "outputs": [],
   "source": [
    "pd.crosstab(df_concat[\"Вклад\"], df_concat[\"Переоформление\"])"
   ]
  },
  {
   "cell_type": "markdown",
   "id": "multiple-colorado",
   "metadata": {},
   "source": [
    "..."
   ]
  },
  {
   "cell_type": "markdown",
   "id": "inclusive-publication",
   "metadata": {},
   "source": [
    "Средства на остатке у переоформленных клиентов:"
   ]
  },
  {
   "cell_type": "code",
   "execution_count": null,
   "id": "standing-imaging",
   "metadata": {},
   "outputs": [],
   "source": [
    "sns.boxplot(x=\"Остаток\", data=df_extended)"
   ]
  },
  {
   "cell_type": "markdown",
   "id": "gothic-bronze",
   "metadata": {},
   "source": [
    "..."
   ]
  },
  {
   "cell_type": "markdown",
   "id": "agreed-plenty",
   "metadata": {},
   "source": [
    "<b>Матрица корреляций</b>"
   ]
  },
  {
   "cell_type": "markdown",
   "id": "diverse-hardware",
   "metadata": {},
   "source": [
    "Рассмотрим матрицу корреляций, чтобы попытаться понять какие ещё параметры связаны между собой."
   ]
  },
  {
   "cell_type": "code",
   "execution_count": null,
   "id": "geographic-heavy",
   "metadata": {},
   "outputs": [],
   "source": [
    "df.corr()"
   ]
  },
  {
   "cell_type": "markdown",
   "id": "prospective-calgary",
   "metadata": {},
   "source": [
    "Тоже самое, что и вверху в формате графика:"
   ]
  },
  {
   "cell_type": "code",
   "execution_count": 49,
   "id": "roman-crossing",
   "metadata": {},
   "outputs": [
    {
     "data": {
      "text/plain": [
       "<AxesSubplot:>"
      ]
     },
     "execution_count": 49,
     "metadata": {},
     "output_type": "execute_result"
    },
    {
     "data": {
      "image/png": "[encoded data removed]",
      "text/plain": [
       "<Figure size 432x288 with 2 Axes>"
      ]
     },
     "metadata": {
      "image/png": {
       "height": 462,
       "width": 568
      },
      "needs_background": "light"
     },
     "output_type": "display_data"
    }
   ],
   "source": [
    "sns.heatmap(df.corr())"
   ]
  },
  {
   "cell_type": "markdown",
   "id": "technical-floor",
   "metadata": {},
   "source": [
    "..."
   ]
  }
 ],
 "metadata": {
  "kernelspec": {
   "display_name": "Python 3",
   "language": "python",
   "name": "python3"
  },
  "language_info": {
   "codemirror_mode": {
    "name": "ipython",
    "version": 3
   },
   "file_extension": ".py",
   "mimetype": "text/x-python",
   "name": "python",
   "nbconvert_exporter": "python",
   "pygments_lexer": "ipython3",
   "version": "3.8.5"
  }
 },
 "nbformat": 4,
 "nbformat_minor": 5
}
