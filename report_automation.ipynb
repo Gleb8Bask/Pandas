{
 "cells": [
  {
   "cell_type": "code",
   "execution_count": 1,
   "metadata": {},
   "outputs": [
    {
     "data": {
      "text/html": [
       "\n",
       "<style>\n",
       "div.jp-MarkdownOutput {font-family: \"Times New Roman\", Times, serif;}\n",
       "div.jp-RenderedText.jp-OutputArea-output {border: 0.2px black solid !important; color: black !important;}\n",
       "table.dataframe td, table.dataframe th {\n",
       "    border: 0.2px black solid !important; color: black !important;\n",
       "}\n",
       "</style>\n"
      ],
      "text/plain": [
       "<IPython.core.display.HTML object>"
      ]
     },
     "execution_count": 1,
     "metadata": {},
     "output_type": "execute_result"
    }
   ],
   "source": [
    "#Оформление New Обводка таблиц\n",
    "from IPython.core.display import HTML\n",
    "\n",
    "HTML(\"\"\"\n",
    "<style>\n",
    "div.jp-MarkdownOutput {font-family: \"Times New Roman\", Times, serif;}\n",
    "div.jp-RenderedText.jp-OutputArea-output {border: 0.2px black solid !important; color: black !important;}\n",
    "table.dataframe td, table.dataframe th {\n",
    "    border: 0.2px black solid !important; color: black !important;\n",
    "}\n",
    "</style>\n",
    "\"\"\")"
   ]
  },
  {
   "cell_type": "code",
   "execution_count": 2,
   "metadata": {},
   "outputs": [],
   "source": [
    "#Импорт библиотек и создание таблицы \"Сводка ЗК\"\n",
    "import pandas as pd\n",
    "import numpy as np\n",
    "import matplotlib.pyplot as plt\n",
    "import seaborn as sns"
   ]
  },
  {
   "cell_type": "code",
   "execution_count": 3,
   "metadata": {},
   "outputs": [],
   "source": [
    "#Импорт таблиц\n",
    "df1 = pd.read_excel(r\"source_transfers.xlsx\")\n",
    "df2 = pd.read_excel(r\"source_dbo.xlsx\")"
   ]
  },
  {
   "cell_type": "code",
   "execution_count": 4,
   "metadata": {},
   "outputs": [],
   "source": [
    "#Добавление столбцов для сводки в ДБО\n",
    "df2['Статус'] = 'Работает'\n",
    "df2['Есть в ДБО'] = 1"
   ]
  },
  {
   "cell_type": "code",
   "execution_count": 5,
   "metadata": {},
   "outputs": [],
   "source": [
    "#New Заполнить строчки без ID нулями\n",
    "#df1[\"ID получателя\"].fillna(0, inplace=True)\n",
    "df1[\"ID получателя\"].dropna(inplace=True)"
   ]
  },
  {
   "cell_type": "code",
   "execution_count": 6,
   "metadata": {},
   "outputs": [],
   "source": [
    "#Расчёт комиссии \n",
    "df1.loc[df1['Код точки отправителя'] == 'B', '% комиссии'] =\n",
    "df1.loc[df1['Код точки отправителя'] != 'B', '% комиссии'] = \n",
    "df1['Комиссия'] = df1['Сумма перевода'] * df1['% комиссии']"
   ]
  },
  {
   "cell_type": "code",
   "execution_count": 7,
   "metadata": {},
   "outputs": [],
   "source": [
    "#Сводка переводов и ДБО с удалением дубликатов из ДБО. Если в ДБО нет, подставляем 0.\n",
    "df3 = pd.merge(df1[['Дата перевода', 'ID получателя', 'Сумма перевода', 'Код точки отправителя', 'Получатель. Наименование', '% комиссии', 'Комиссия']], df2[['Клиент ID', 'Статус', 'Есть в ДБО']].drop_duplicates(subset=['Клиент ID']), how='left', left_on='ID получателя', right_on='Клиент ID')\n",
    "df3['Есть в ДБО'] = df3['Есть в ДБО'].fillna(0)"
   ]
  },
  {
   "cell_type": "code",
   "execution_count": 8,
   "metadata": {},
   "outputs": [],
   "source": [
    "#Импорт кредитов, удаление дубликатов, чтобы не брать закрытые кредиты клиентов, когда есть открытые\n",
    "df4 = pd.read_excel(r\"source_credits.xlsx\")\n",
    "df4_upd = df4.sort_values(['ID клиента', 'Дата закрытия']).drop_duplicates(subset=['ID клиента'], keep='last')"
   ]
  },
  {
   "cell_type": "code",
   "execution_count": 9,
   "metadata": {},
   "outputs": [],
   "source": [
    "#Ссудный счёт начинается на 45511\n",
    "values = ['45511']\n",
    "conditions = list(map(df4_upd['Ссудный счет'].str.contains, values))\n",
    "df4_upd['Ссудный счёт начинается на 45511'] = np.select(conditions, values, 'other')"
   ]
  },
  {
   "cell_type": "code",
   "execution_count": 10,
   "metadata": {},
   "outputs": [],
   "source": [
    "#Сводка Переводов и ДБО с кредитами\n",
    "df5 = pd.merge(df3, df4_upd[['ID клиента', 'Вид кредита', 'Покупатель кредита', 'Дата закрытия', 'Ссудный счёт начинается на 45511']], how='left', left_on='ID получателя', right_on='ID клиента')"
   ]
  },
  {
   "cell_type": "markdown",
   "metadata": {},
   "source": [
    "# Отчёт по ЗК"
   ]
  },
  {
   "cell_type": "markdown",
   "metadata": {},
   "source": [
    "## Введение"
   ]
  },
  {
   "cell_type": "markdown",
   "metadata": {},
   "source": [
    "..."
   ]
  },
  {
   "cell_type": "markdown",
   "metadata": {},
   "source": [
    "Общие показатели за апрель:"
   ]
  },
  {
   "cell_type": "code",
   "execution_count": null,
   "metadata": {},
   "outputs": [],
   "source": [
    "#Вывод общих показателей New Формат чисел\n",
    "totalcount = df3['Сумма перевода'].count()\n",
    "print(\"Количество переводов: {}\".format(totalcount))\n",
    "totalsum = df3['Сумма перевода'].sum().round().astype(int)\n",
    "print(\"Сумма переводов: {:,}\".format(totalsum))\n",
    "totalsum = df3['Комиссия'].sum().round().astype(int)\n",
    "print(\"Сумма комиссии Банка в пользу Золотой короны: {:,} руб.\".format(totalsum)) "
   ]
  },
  {
   "cell_type": "markdown",
   "metadata": {},
   "source": [
    "Сумма и количество переводов по месяцам:"
   ]
  },
  {
   "cell_type": "code",
   "execution_count": null,
   "metadata": {},
   "outputs": [],
   "source": [
    "#Monthly New\n",
    "plt.style.use('seaborn')\n",
    "\n",
    "x = ['Февраль', 'Март', 'Апрель']\n",
    "sum_abc = []\n",
    "num_abc = []\n",
    "\n",
    "a4_dims = (8, 4)\n",
    "\n",
    "fig, (ax1, ax2) = plt.subplots(1, 2, figsize=a4_dims)\n",
    "\n",
    "ax1.bar(x, sum_abc)\n",
    "ax2.bar(x, num_abc)\n",
    "\n",
    "ax1.ticklabel_format(style='plain', axis='y')\n",
    "\n",
    "ax1.set_title(\"Сумма переводов по месяцам\")\n",
    "ax2.set_title(\"Количество клиентов по месяцам\")\n",
    "\n",
    "plt.tight_layout()\n",
    "plt.show()"
   ]
  },
  {
   "cell_type": "code",
   "execution_count": 13,
   "metadata": {},
   "outputs": [],
   "source": [
    "#Объединение с цессиями\n",
    "#Скопировать свежие файлы цессий X:\\Я МЕНЕДЖЕР\\ЦЕССИИ, объединить с прошлым, ID из кредитов\n",
    "cessia = pd.read_excel(r\"source_cessia.xlsx\")\n",
    "cessia['Цессия'] = 'Да'\n",
    "df6 = pd.merge(df5, cessia[['ID', 'Цессия']], how='left', left_on='ID получателя', right_on='ID')"
   ]
  },
  {
   "cell_type": "markdown",
   "metadata": {},
   "source": []
  },
  {
   "cell_type": "code",
   "execution_count": 14,
   "metadata": {},
   "outputs": [],
   "source": [
    "#ABC создание файла Эксель NEW\n",
    "df_abc = df6[['ID получателя', 'Код точки отправителя', 'Получатель. Наименование', 'Комиссия', 'Сумма перевода']]\n",
    "ids = df_abc.groupby(['Получатель. Наименование', 'Код точки отправителя']).agg({\"Комиссия\": \"sum\", \"Сумма перевода\": \"sum\"}).reset_index()\n",
    "abc2 = ids[ids['Получатель. Наименование'].duplicated(keep=False)]\n",
    "#abc.to_excel(r'result_abc.xlsx')\n",
    "\n",
    "#ABC создание файла Эксель OLD\n",
    "#ids = df6['Получатель. Наименование']\n",
    "#abc = df6[ids.isin(ids[ids.duplicated()])]\n",
    "#abc2 = abc.drop_duplicates(subset=['Получатель. Наименование', 'Код точки отправителя'], keep=False)\n",
    "#abc2_pivot = pd.pivot_table(abc2, index = ['ID получателя', 'Получатель. Наименование'], columns = 'Код точки отправителя', values = ['Сумма перевода', 'Комиссия'], aggfunc = ['sum'])\n",
    "#abc2_pivot.to_excel(r'result_abc2.xlsx')"
   ]
  },
  {
   "cell_type": "markdown",
   "metadata": {},
   "source": [
    "Показатели по клиентам, которые используют несколько способов платежа:"
   ]
  },
  {
   "cell_type": "code",
   "execution_count": null,
   "metadata": {},
   "outputs": [],
   "source": [
    "#ABC печать в отчёт NEW\n",
    "abc2total = abc2['Сумма перевода'].sum()\n",
    "abc2totalcom = abc2['Комиссия'].sum()\n",
    "abc2totalcount = abc2['Получатель. Наименование'].nunique()\n",
    "abc2series = {'Показатель': ['Сумма перевода','Комиссия','Количество клиентов'],\n",
    "        'Сумма за апрель': [abc2total,abc2totalcom,abc2totalcount]\n",
    "        }\n",
    "abc2df = pd.DataFrame(abc2series, columns = ['Показатель', 'Сумма за апрель'])\n",
    "abc2df[\"Сумма за апрель\"] = abc2df['Сумма за апрель'].round().astype(int).apply(lambda x : \"{:,}\".format(x))\n",
    "print(abc2df)"
   ]
  },
  {
   "cell_type": "code",
   "execution_count": 16,
   "metadata": {},
   "outputs": [],
   "source": [
    "#Убираем ABC из списка переводов\n",
    "df7=pd.merge(df6, abc2['Получатель. Наименование'], how='left', suffixes=('','_y'), indicator=True)\n",
    "df8 = df7[df7['_merge']=='left_only'][df6.columns]"
   ]
  },
  {
   "cell_type": "markdown",
   "metadata": {},
   "source": [
    "## Анализ клиентов\n",
    "\n",
    "## 1.\tКлиенты, которые использовали систему переводов НЕ для погашения кредитов\n",
    "Предполагаемое действие:  закрыть данную возможность, ввести доп. комиссию, оставить как есть."
   ]
  },
  {
   "cell_type": "code",
   "execution_count": 17,
   "metadata": {},
   "outputs": [],
   "source": [
    "#Не кредиты. Для выгрузки.\n",
    "nocredits = df8[df8['Вид кредита'].isnull()]\n",
    "nocredits_pivot = pd.pivot_table(nocredits, index = ['ID получателя', 'Получатель. Наименование'], columns = 'Код точки отправителя', values = ['Сумма перевода','Комиссия'], aggfunc = ['sum']) \n",
    "nocredits_pivot.to_excel(r'result_not_credit.xlsx')"
   ]
  },
  {
   "cell_type": "markdown",
   "metadata": {},
   "source": [
    "Показатели по клиентам, которые переводят деньги не за кредит:"
   ]
  },
  {
   "cell_type": "code",
   "execution_count": null,
   "metadata": {},
   "outputs": [],
   "source": [
    "#Не кредит. Для отчёта.\n",
    "nocredits_count = nocredits['ID получателя'].nunique()\n",
    "print(\"Кол-во, шт: {}\".format(nocredits_count))\n",
    "nocredits_totalsum = nocredits['Сумма перевода'].sum().astype(int)\n",
    "print(\"Сумма переводов, руб.: {:,}\".format(nocredits_totalsum))\n",
    "nocredits_comsum = nocredits['Комиссия'].sum().astype(int)\n",
    "print(\"Сумма кв, руб.: {:,}\".format(nocredits_comsum))\n",
    "\n",
    "nocredits_table = nocredits[['ID получателя', 'Код точки отправителя', 'Сумма перевода', 'Комиссия']].groupby(['Код точки отправителя']).agg({\n",
    "    'ID получателя': ['nunique'],\n",
    "    'Сумма перевода': ['sum'],\n",
    "    'Комиссия': ['sum']\n",
    "})\n",
    "nocredits_table[\"Сумма перевода\"] = nocredits_table['Сумма перевода'].astype(float).astype(int)\n",
    "nocredits_table[\"Комиссия\"] = nocredits_table['Комиссия'].astype(float).astype(int)\n",
    "print(nocredits_table)\n"
   ]
  },
  {
   "cell_type": "markdown",
   "metadata": {},
   "source": [
    "Список клиентов представлен в документе result_not_credit.xlsx."
   ]
  },
  {
   "cell_type": "markdown",
   "metadata": {},
   "source": [
    "Сумма и количество переводов по месяцам:"
   ]
  },
  {
   "cell_type": "code",
   "execution_count": null,
   "metadata": {},
   "outputs": [],
   "source": [
    "plt.style.use('seaborn')\n",
    "\n",
    "data = pd.read_excel(r\"month_nocredit.xlsx\")\n",
    "\n",
    "fig, (ax1, ax2) = plt.subplots(nrows=1, ncols=2)\n",
    "\n",
    "data.plot(x = 'month', y = ['allsum', 'asum', 'bsum'], kind = 'bar', ax=ax1)\n",
    "data.plot(x ='month', y = ['allnum', 'anum', 'bnum'], kind = 'bar', ax=ax2)\n",
    "\n",
    "ax1.legend()\n",
    "ax1.set_title(\"Cумма переводов по месяцам\")\n",
    "ax1.set_xlabel('month')\n",
    "ax1.set_ylabel('Sum')\n",
    "ax1.ticklabel_format(style='plain', axis='y')\n",
    "\n",
    "ax2.legend()\n",
    "ax2.set_title(\"Количество клиентов по месяцам\")\n",
    "ax2.set_xlabel('month')\n",
    "ax2.set_ylabel('Count')\n",
    "\n",
    "plt.tight_layout()\n",
    "plt.show()"
   ]
  },
  {
   "cell_type": "markdown",
   "metadata": {},
   "source": [
    "..."
   ]
  },
  {
   "cell_type": "markdown",
   "metadata": {},
   "source": [
    "## 2.\tКлиенты, которые использовали систему переводов для погашения кредитов\n",
    "\n",
    "2.1.\tНиже приведена сводка данных по всем клиентам, которые использовали Золотую корону для оплаты кредитов. В файле result_credits.xlsx находится список клиентов."
   ]
  },
  {
   "cell_type": "code",
   "execution_count": 20,
   "metadata": {
    "scrolled": true
   },
   "outputs": [],
   "source": [
    "#Кредиты для выгрузки\n",
    "credits = df8[df8['Вид кредита'].notnull()]\n",
    "credits_pivot = pd.pivot_table(credits, index = ['ID получателя', 'Получатель. Наименование'], columns = 'Код точки отправителя', values = ['Сумма перевода','Комиссия'], aggfunc = ['sum']) \n",
    "credits_pivot.to_excel(r'result_credits.xlsx')"
   ]
  },
  {
   "cell_type": "code",
   "execution_count": null,
   "metadata": {},
   "outputs": [],
   "source": [
    "#Кредиты для отчёта\n",
    "credits_report = pd.pivot_table(credits, index='Есть в ДБО',  \n",
    "                            values=['ID получателя','Сумма перевода','Комиссия'],\n",
    "                            columns='Код точки отправителя',\n",
    "                            aggfunc= {'ID получателя':'nunique', 'Комиссия':sum, 'Сумма перевода':sum }, \n",
    "                            fill_value=0, dropna=False\n",
    "                                , margins=True, margins_name = 'Total'\n",
    "                               ).stack().round(1)\n",
    "print(credits_report)"
   ]
  },
  {
   "cell_type": "markdown",
   "metadata": {},
   "source": [
    "% соотношение:"
   ]
  },
  {
   "cell_type": "code",
   "execution_count": null,
   "metadata": {},
   "outputs": [],
   "source": [
    "#% соотношение\n",
    "credits_report_perc = credits_report.drop('Total', level='Код точки отправителя')\n",
    "credits_report_perc2 = credits_report_perc['ID получателя'].groupby(['Есть в ДБО']).apply(lambda g: g / g.sum()).round(2)\n",
    "print(credits_report_perc2)"
   ]
  },
  {
   "cell_type": "markdown",
   "metadata": {},
   "source": [
    "Сумма переводов и количество клиентов по месяцам по всем, кто переводил за кредиты:"
   ]
  },
  {
   "cell_type": "code",
   "execution_count": null,
   "metadata": {},
   "outputs": [],
   "source": [
    "plt.style.use('seaborn')\n",
    "\n",
    "data = pd.read_excel(r\"month_allcredits.xlsx\")\n",
    "\n",
    "fig, (ax1, ax2) = plt.subplots(nrows=1, ncols=2)\n",
    "\n",
    "data.plot(x = 'month', y = ['allsum', 'asum', 'bsum', 'csum'], kind = 'bar', ax=ax1)\n",
    "data.plot(x ='month', y = ['allnum', 'anum', 'bnum', 'cnum'], kind = 'bar', ax=ax2)\n",
    "\n",
    "ax1.legend()\n",
    "ax1.set_title(\"Cумма переводов по месяцам\")\n",
    "ax1.set_xlabel('month')\n",
    "ax1.set_ylabel('Sum')\n",
    "ax1.ticklabel_format(style='plain', axis='y')\n",
    "\n",
    "ax2.legend()\n",
    "ax2.set_title(\"Количество клиентов по месяцам\")\n",
    "ax2.set_xlabel('month')\n",
    "ax2.set_ylabel('Count')\n",
    "\n",
    "plt.tight_layout()\n",
    "plt.show()"
   ]
  },
  {
   "cell_type": "markdown",
   "metadata": {},
   "source": [
    "Сумма переводов и количество клиентов по месяцам по всем, кто переводил за кредиты и есть в списке ДБО:"
   ]
  },
  {
   "cell_type": "code",
   "execution_count": null,
   "metadata": {},
   "outputs": [],
   "source": [
    "plt.style.use('seaborn')\n",
    "\n",
    "data = pd.read_excel(r\"month_allcredits_dbo_1.xlsx\")\n",
    "\n",
    "#x = np.arange(len(month))\n",
    "\n",
    "fig, (ax1, ax2) = plt.subplots(nrows=1, ncols=2)\n",
    "\n",
    "data.plot(x = 'month', y = ['allsum', 'asum', 'bsum', 'csum'], kind = 'bar', ax=ax1)\n",
    "data.plot(x ='month', y = ['allnum', 'anum', 'bnum', 'cnum'], kind = 'bar', ax=ax2)\n",
    "\n",
    "ax1.legend()\n",
    "ax1.set_title(\"Cумма переводов по месяцам\")\n",
    "ax1.set_xlabel('month')\n",
    "ax1.set_ylabel('Sum')\n",
    "ax1.ticklabel_format(style='plain', axis='y')\n",
    "\n",
    "ax2.legend()\n",
    "ax2.set_title(\"Количество переводов по месяцам\")\n",
    "ax2.set_xlabel('month')\n",
    "ax2.set_ylabel('Count')\n",
    "\n",
    "plt.tight_layout()\n",
    "plt.show()"
   ]
  },
  {
   "cell_type": "markdown",
   "metadata": {},
   "source": [
    "Сумма переводов и количество клиентов по месяцам по всем, кто переводил за кредиты и отсутствует в списке ДБО:"
   ]
  },
  {
   "cell_type": "code",
   "execution_count": null,
   "metadata": {},
   "outputs": [],
   "source": [
    "plt.style.use('seaborn')\n",
    "\n",
    "data = pd.read_excel(r\"month_allcredits_dbo_0.xlsx\")\n",
    "\n",
    "#x = np.arange(len(month))\n",
    "\n",
    "fig, (ax1, ax2) = plt.subplots(nrows=1, ncols=2)\n",
    "\n",
    "data.plot(x = 'month', y = ['allsum', 'asum', 'bsum', 'csum'], kind = 'bar', ax=ax1)\n",
    "data.plot(x ='month', y = ['allnum', 'anum', 'bnum', 'cnum'], kind = 'bar', ax=ax2)\n",
    "\n",
    "ax1.legend()\n",
    "ax1.set_title(\"Cумма переводов по месяцам\")\n",
    "ax1.set_xlabel('month')\n",
    "ax1.set_ylabel('Sum')\n",
    "ax1.ticklabel_format(style='plain', axis='y')\n",
    "\n",
    "ax2.legend()\n",
    "ax2.set_title(\"Количество переводов по месяцам\")\n",
    "ax2.set_xlabel('month')\n",
    "ax2.set_ylabel('Count')\n",
    "\n",
    "plt.tight_layout()\n",
    "plt.show()"
   ]
  },
  {
   "cell_type": "markdown",
   "metadata": {},
   "source": [
    "..."
   ]
  },
  {
   "cell_type": "markdown",
   "metadata": {},
   "source": [
    "## Промежуточный итог"
   ]
  },
  {
   "cell_type": "markdown",
   "metadata": {},
   "source": [
    "Увеличивается количество и сумма переводов клиентов, которые переводят средства через мобильное приложение. Выведем в процетах изменение сумм переводов и их количества по месяцам по всем категориям:"
   ]
  },
  {
   "cell_type": "code",
   "execution_count": null,
   "metadata": {},
   "outputs": [],
   "source": [
    "plt.style.use('seaborn')\n",
    "\n",
    "data = pd.read_excel(r\"month_allcredits_new.xlsx\")\n",
    "a4_dims = (16, 8)\n",
    "fig, (ax1, ax2, ax3) = plt.subplots(nrows=1, ncols=3, figsize=a4_dims)\n",
    "\n",
    "data.plot(x ='month', y = ['% сайта по сумме', '% сайта по количеству'], kind = 'bar', ax=ax1)\n",
    "data.plot(x = 'month', y = ['% офлайна по сумме', '% офлайна по количеству'], kind = 'bar', ax=ax2)\n",
    "data.plot(x ='month', y = ['% приложения по сумме', '% приложения по количеству'], kind = 'bar', ax=ax3)\n",
    "\n",
    "ax1.legend()\n",
    "ax1.set_title(\"Сайт\")\n",
    "ax1.set_xlabel('Месяц')\n",
    "ax1.set_ylabel('Процент')\n",
    "\n",
    "ax2.legend()\n",
    "ax2.set_title(\"Офлайн\")\n",
    "ax2.set_xlabel('Месяц')\n",
    "ax2.set_ylabel('Процент')\n",
    "ax2.ticklabel_format(style='plain', axis='y')\n",
    "\n",
    "ax3.legend()\n",
    "ax3.set_title(\"Приложение\")\n",
    "ax3.set_xlabel('Месяц')\n",
    "ax3.set_ylabel('Процент')\n",
    "\n",
    "plt.tight_layout()\n",
    "plt.show()"
   ]
  },
  {
   "cell_type": "markdown",
   "metadata": {},
   "source": [
    "..."
   ]
  },
  {
   "cell_type": "markdown",
   "metadata": {},
   "source": [
    "## 2.2. Клиенты с закрытыми кредитными договорами (предполагаем это проданные кредиты) \n",
    "Анализируем в разрезе способа осуществления перевода для того, чтобы увидеть объем таких платежей и их распределение по способу перевода:"
   ]
  },
  {
   "cell_type": "code",
   "execution_count": 120,
   "metadata": {},
   "outputs": [],
   "source": [
    "#Цессии. Кредиты с не пустыми полями 'Дата закрытия' или 'Ссудный счёт начинается на 45511' или 'Покупатель кредита'\n",
    "cessia_f = credits[(credits['Дата закрытия'].notnull()) | (credits['Ссудный счёт начинается на 45511'] != 'other') | (credits['Покупатель кредита'].notnull())]\n",
    "cessia_pivot = pd.pivot_table(cessia_f, index = ['ID получателя', 'Получатель. Наименование'], columns = 'Код точки отправителя', values = ['Сумма перевода','Комиссия'], aggfunc = ['sum']) \n",
    "cessia_pivot.to_excel(r'result_cessia.xlsx')"
   ]
  },
  {
   "cell_type": "code",
   "execution_count": null,
   "metadata": {},
   "outputs": [],
   "source": [
    "#Кредиты для отчёта\n",
    "cessia_report = pd.pivot_table(cessia_f, index='Есть в ДБО',  \n",
    "                            values=['ID получателя','Сумма перевода','Комиссия'],\n",
    "                            columns='Код точки отправителя',\n",
    "                            aggfunc= {'ID получателя':'nunique', 'Комиссия':sum, 'Сумма перевода':sum }, \n",
    "                            fill_value=0, dropna=False, margins=True, margins_name = 'Total').stack().round()\n",
    "#cessia_report['% ID получателя'] = (cessia_report['ID получателя']/cessia_report['ID получателя'].sum())*100\n",
    "print(cessia_report)"
   ]
  },
  {
   "cell_type": "markdown",
   "metadata": {},
   "source": [
    "% соотношение:"
   ]
  },
  {
   "cell_type": "code",
   "execution_count": null,
   "metadata": {},
   "outputs": [],
   "source": [
    "#% соотношение\n",
    "print('% соотношение')\n",
    "cessia_report_perc = cessia_report.drop('Total', level='Код точки отправителя')\n",
    "cessia_report_perc2 = cessia_report_perc['ID получателя'].groupby(['Есть в ДБО']).apply(lambda g: g / g.sum()).round(2)\n",
    "print(cessia_report_perc2)"
   ]
  },
  {
   "cell_type": "markdown",
   "metadata": {},
   "source": [
    "Сумма переводов и количество клиентов по месяцам по всем, кто переводил за кредиты и находится в списках проданных:"
   ]
  },
  {
   "cell_type": "code",
   "execution_count": null,
   "metadata": {},
   "outputs": [],
   "source": [
    "plt.style.use('seaborn')\n",
    "\n",
    "data = pd.read_excel(r\"month_credits_cessia.xlsx\")\n",
    "\n",
    "#x = np.arange(len(month))\n",
    "\n",
    "fig, (ax1, ax2) = plt.subplots(nrows=1, ncols=2)\n",
    "\n",
    "data.plot(x = 'month', y = ['allsum', 'asum', 'bsum', 'csum'], kind = 'bar', ax=ax1)\n",
    "data.plot(x ='month', y = ['allnum', 'anum', 'bnum', 'cnum'], kind = 'bar', ax=ax2)\n",
    "\n",
    "ax1.legend()\n",
    "ax1.set_title(\"Cумма переводов по месяцам\")\n",
    "ax1.set_xlabel('month')\n",
    "ax1.set_ylabel('Sum')\n",
    "ax1.ticklabel_format(style='plain', axis='y')\n",
    "\n",
    "ax2.legend()\n",
    "ax2.set_title(\"Количество клиентов по месяцам\")\n",
    "ax2.set_xlabel('month')\n",
    "ax2.set_ylabel('Count')\n",
    "\n",
    "plt.tight_layout()\n",
    "plt.show()"
   ]
  },
  {
   "cell_type": "markdown",
   "metadata": {},
   "source": [
    "..."
   ]
  },
  {
   "cell_type": "markdown",
   "metadata": {},
   "source": [
    "## 2.3.\tКлиенты с действующими кредитными договорами в разрезе наличия у них договора ДБО"
   ]
  },
  {
   "cell_type": "code",
   "execution_count": 125,
   "metadata": {},
   "outputs": [],
   "source": [
    "#Кредиты открытые. Кредиты с пустыми полями 'Дата закрытия' и 'Ссудный счёт начинается на 45511' и 'Покупатель кредита'.\n",
    "open_f = credits[(credits['Дата закрытия'].isnull()) & (credits['Ссудный счёт начинается на 45511'] == 'other') & (credits['Покупатель кредита'].isnull())]\n",
    "open_pivot = pd.pivot_table(open_f, index = ['ID получателя', 'Получатель. Наименование'], columns = 'Код точки отправителя', values = ['Сумма перевода','Комиссия'], aggfunc = ['sum']) \n",
    "open_pivot.to_excel(r'result_open_credits.xlsx')"
   ]
  },
  {
   "cell_type": "code",
   "execution_count": null,
   "metadata": {},
   "outputs": [],
   "source": [
    "#Таблица для отчёта\n",
    "open_report = pd.pivot_table(open_f, index='Есть в ДБО',  \n",
    "                            values=['ID получателя','Сумма перевода','Комиссия'],\n",
    "                            columns='Код точки отправителя',\n",
    "                            aggfunc= {'ID получателя':'nunique', 'Комиссия':sum, 'Сумма перевода':sum }, \n",
    "                            fill_value=0, dropna=False, margins=True, margins_name = 'Total').stack().round()\n",
    "print(open_report)"
   ]
  },
  {
   "cell_type": "markdown",
   "metadata": {},
   "source": [
    "% соотношение:"
   ]
  },
  {
   "cell_type": "code",
   "execution_count": null,
   "metadata": {},
   "outputs": [],
   "source": [
    "#% соотношение\n",
    "open_report_perc = open_report.drop('Total', level='Код точки отправителя')\n",
    "open_report_perc2 = open_report_perc['ID получателя'].groupby(['Есть в ДБО']).apply(lambda g: g / g.sum())\n",
    "print(open_report_perc2)"
   ]
  },
  {
   "cell_type": "markdown",
   "metadata": {},
   "source": [
    "Сумма переводов и количество клиентов по месяцам по всем, кто переводил за кредиты и является действующим клиентом:"
   ]
  },
  {
   "cell_type": "code",
   "execution_count": null,
   "metadata": {},
   "outputs": [],
   "source": [
    "plt.style.use('seaborn')\n",
    "\n",
    "data = pd.read_excel(r\"month_credits_open.xlsx\")\n",
    "\n",
    "#x = np.arange(len(month))\n",
    "\n",
    "fig, (ax1, ax2) = plt.subplots(nrows=1, ncols=2)\n",
    "\n",
    "data.plot(x = 'month', y = ['allsum', 'asum', 'bsum', 'csum'], kind = 'bar', ax=ax1)\n",
    "data.plot(x ='month', y = ['allnum', 'anum', 'bnum', 'cnum'], kind = 'bar', ax=ax2)\n",
    "\n",
    "ax1.legend()\n",
    "ax1.set_title(\"Cумма переводов по месяцам\")\n",
    "ax1.set_xlabel('month')\n",
    "ax1.set_ylabel('Sum')\n",
    "ax1.ticklabel_format(style='plain', axis='y')\n",
    "\n",
    "ax2.legend()\n",
    "ax2.set_title(\"Количество переводов по месяцам\")\n",
    "ax2.set_xlabel('month')\n",
    "ax2.set_ylabel('Count')\n",
    "\n",
    "plt.tight_layout()\n",
    "plt.show()"
   ]
  },
  {
   "cell_type": "markdown",
   "metadata": {},
   "source": [
    "...\n",
    "\n",
    "\n",
    "\n"
   ]
  },
  {
   "cell_type": "markdown",
   "metadata": {},
   "source": [
    "## Рассмотрим более подробно клиентов, у которых имеются действующие кредитные договоры и их способы перевода:"
   ]
  },
  {
   "cell_type": "markdown",
   "metadata": {},
   "source": [
    "2.3.1.\tКлиенты платят офлайн, но при этом имеют договор ДБО в состоянии «Работает»\n",
    "\n",
    "Предполагаемое действие: отправить смс о возможности платить через МБ \n"
   ]
  },
  {
   "cell_type": "code",
   "execution_count": null,
   "metadata": {},
   "outputs": [],
   "source": [
    "#Клиенты платят офлайн, но при этом имеют договор ДБО в состоянии «Работает»\n",
    "open_b_f = open_f[(open_f['Код точки отправителя'] == 'B') & (open_f['Есть в ДБО'] == 1)]\n",
    "open_b_f.to_excel(r'result_credits_offline_dbo_1.xlsx')\n",
    "open_b = pd.pivot_table(open_b_f, index='Есть в ДБО',  \n",
    "                            values=['ID получателя','Сумма перевода','Комиссия'],\n",
    "                            columns='Код точки отправителя',\n",
    "                            aggfunc= {'ID получателя':'nunique', 'Комиссия':sum, 'Сумма перевода':sum }, \n",
    "                            fill_value=0, dropna=False).stack().round()\n",
    "print(open_b)"
   ]
  },
  {
   "cell_type": "markdown",
   "metadata": {},
   "source": [
    "..."
   ]
  },
  {
   "cell_type": "markdown",
   "metadata": {},
   "source": [
    "2.3.2.\tКлиенты платят через сайт, но имеющие договор ДБО в состоянии «Работает»\n",
    "\n",
    "Предполагаемое действие: смс о возможности платить через МБ "
   ]
  },
  {
   "cell_type": "code",
   "execution_count": null,
   "metadata": {},
   "outputs": [],
   "source": [
    "#Клиенты платят через сайт, но имеющие договор ДБО в состоянии «Работает»\n",
    "open_a_f = open_f[(open_f['Код точки отправителя'] == 'A') & (open_f['Есть в ДБО'] == 1)]\n",
    "open_a_f.to_excel(r'result_credits_website_dbo_1.xlsx')\n",
    "open_a = pd.pivot_table(open_a_f, index='Есть в ДБО',  \n",
    "                            values=['ID получателя','Сумма перевода','Комиссия'],\n",
    "                            columns='Код точки отправителя',\n",
    "                            aggfunc= {'ID получателя':'nunique', 'Комиссия':sum, 'Сумма перевода':sum }, \n",
    "                            fill_value=0, dropna=False).stack().round()\n",
    "print(open_a)"
   ]
  },
  {
   "cell_type": "markdown",
   "metadata": {},
   "source": [
    "..."
   ]
  },
  {
   "cell_type": "markdown",
   "metadata": {},
   "source": [
    "2.3.3.\tКлиенты платят офлайн и не имеют действующего договора ДБО"
   ]
  },
  {
   "cell_type": "markdown",
   "metadata": {},
   "source": [
    "Предполагаемое действие: звонок, агитация и информация о возможности платить через МБ, подключение ДБО. Если от клиента отказ, настоятельная рекомендация платить через сайт"
   ]
  },
  {
   "cell_type": "code",
   "execution_count": null,
   "metadata": {},
   "outputs": [],
   "source": [
    "#Клиенты платят офлайн и не имеют действующего договора ДБО\n",
    "open_b_f_bezdbo = open_f[(open_f['Код точки отправителя'] == 'B') & (open_f['Есть в ДБО'] == 0)]\n",
    "open_b_f_bezdbo.to_excel(r'result_credits_offline_dbo_0.xlsx')\n",
    "open_b_bezdbo = pd.pivot_table(open_b_f_bezdbo, index='Есть в ДБО',  \n",
    "                            values=['ID получателя','Сумма перевода','Комиссия'],\n",
    "                            columns='Код точки отправителя',\n",
    "                            aggfunc= {'ID получателя':'nunique', 'Комиссия':sum, 'Сумма перевода':sum }, \n",
    "                            fill_value=0, dropna=False).stack().round()\n",
    "print(open_b_bezdbo)"
   ]
  },
  {
   "cell_type": "markdown",
   "metadata": {},
   "source": [
    "...\n"
   ]
  }
 ],
 "metadata": {
  "kernelspec": {
   "display_name": "Python 3",
   "language": "python",
   "name": "python3"
  },
  "language_info": {
   "codemirror_mode": {
    "name": "ipython",
    "version": 3
   },
   "file_extension": ".py",
   "mimetype": "text/x-python",
   "name": "python",
   "nbconvert_exporter": "python",
   "pygments_lexer": "ipython3",
   "version": "3.8.5"
  }
 },
 "nbformat": 4,
 "nbformat_minor": 4
}
